{
 "cells": [
  {
   "cell_type": "code",
   "execution_count": 2,
   "id": "cbf370a4-4fe7-441e-8407-70f1c6f903a9",
   "metadata": {},
   "outputs": [],
   "source": [
    "import numpy as np\n",
    "import matplotlib.pyplot as plt\n",
    "import exact_cover "
   ]
  },
  {
   "cell_type": "code",
   "execution_count": 3,
   "id": "123ee7c2-b776-4e30-9d8c-300a357c1259",
   "metadata": {},
   "outputs": [],
   "source": [
    "#AC:\n",
    "DTYPE = exact_cover.io.DTYPE_FOR_ARRAY\n",
    "RAW_SHAPES = {\n",
    "    \"F\": [[1, 1, 0], [0, 1, 1], [0, 1, 0]],\n",
    "    \"I\": [[1, 1, 1, 1, 1]],\n",
    "    \"L\": [[1, 0, 0, 0], [1, 1, 1, 1]],\n",
    "    \"N\": [[1, 1, 0, 0], [0, 1, 1, 1]],\n",
    "    \"P\": [[1, 1, 1], [1, 1, 0]],\n",
    "    \"T\": [[1, 1, 1], [0, 1, 0], [0, 1, 0]],\n",
    "    \"U\": [[1, 1, 1], [1, 0, 1]],\n",
    "    \"V\": [[1, 1, 1], [1, 0, 0], [1, 0, 0]],\n",
    "    \"W\": [[1, 0, 0], [1, 1, 0], [0, 1, 1]],\n",
    "    \"X\": [[0, 1, 0], [1, 1, 1], [0, 1, 0]],\n",
    "    \"Y\": [[0, 1, 0, 0], [1, 1, 1, 1]],\n",
    "    \"Z\": [[1, 1, 0], [0, 1, 0], [0, 1, 1]],\n",
    "}\n",
    "PENTOMINOS = [np.array(shape, dtype=DTYPE) for shape in RAW_SHAPES.values()]"
   ]
  },
  {
   "cell_type": "code",
   "execution_count": 35,
   "id": "36cd9fce-7201-43f6-b4ad-e2860f36ac8b",
   "metadata": {},
   "outputs": [],
   "source": [
    "#AC\n",
    "# Création de \"all_shapes\"\n",
    "\n",
    "pieces = [\"F\", \"I\", \"L\", \"N\", \"P\", \"T\", \"U\", \"V\", \"W\", \"X\", \"Y\", \"Z\"]\n",
    "all_shapes = {} # Contiendra pour chaque pièce, une liste de toutes les shapes différentes possibles\n",
    "for piece in pieces:\n",
    "    new_shape = np.array(RAW_SHAPES[piece])\n",
    "    new_shape_transpose = new_shape.T\n",
    "    all_shapes[piece] = [new_shape]\n",
    "    if not np.array_equal(new_shape, new_shape_transpose):\n",
    "        all_shapes[piece].append(new_shape_transpose)\n",
    "    for _ in range(4): # ajout de toutes les rotations/ rotations de symétries\n",
    "        new_shape = np.rot90(new_shape)\n",
    "        new_shape_transpose = np.rot90(new_shape_transpose)\n",
    "        if not any(np.array_equal(shape, new_shape) for shape in all_shapes[piece]): #si new_shape n'est pas identique à une déjà présente\n",
    "            all_shapes[piece].append(new_shape)\n",
    "        if not any(np.array_equal(shape, new_shape_transpose) for shape in all_shapes[piece]): #si new_shape n'est pas identique à une déjà présente\n",
    "            all_shapes[piece].append(new_shape_transpose)\n"
   ]
  },
  {
   "cell_type": "code",
   "execution_count": 49,
   "id": "ec9377ce-2637-426f-8d74-674a368a9b9b",
   "metadata": {},
   "outputs": [
    {
     "data": {
      "image/png": "[encoded data removed]",
      "text/plain": [
       "<Figure size 640x480 with 1 Axes>"
      ]
     },
     "metadata": {},
     "output_type": "display_data"
    }
   ],
   "source": [
    "#AC\n",
    "# Affichage couleurs\n",
    "colors = np.array([[255, 0, 0], [0, 255, 0], [0, 0, 255], [0, 255, 255],[255, 255, 0], [255, 0, 255], [50, 50, 50], [165, 42, 42], [128, 128, 0],\n",
    "            [255, 165, 0], [255, 192, 203], [112, 66, 20], [48,69,155]])\n",
    "grille = np.array([[3, 3, 6, 7, 7, 5, 5, 5, 11, 11, 11, 11],\n",
    " [3, 6, 6, 6, 7, 9, 5, 5, 10, 11, 12, 12],\n",
    " [3, 1, 6, 7, 7, 9, 9, 10, 10, 10, 12, 8],\n",
    " [3,  1,  1,  4,  4,  4,  9,  9, 10, 12, 12,  8],\n",
    " [1,  1,  4,  4,  2,  2,  2,  2,  2,  8,  8,  8]])\n",
    "\n",
    "def display(image):\n",
    "    plt.figure()\n",
    "    plt.imshow(image)\n",
    "\n",
    "#display(colors[grille])"
   ]
  },
  {
   "cell_type": "code",
   "execution_count": 24,
   "id": "17aa640e-166e-4861-b9b4-a234aa54ce81",
   "metadata": {},
   "outputs": [
    {
     "ename": "AttributeError",
     "evalue": "'list' object has no attribute 'shape'",
     "output_type": "error",
     "traceback": [
      "\u001b[1;31m---------------------------------------------------------------------------\u001b[0m",
      "\u001b[1;31mAttributeError\u001b[0m                            Traceback (most recent call last)",
      "Cell \u001b[1;32mIn[24], line 33\u001b[0m\n\u001b[0;32m     29\u001b[0m     \u001b[38;5;28;01mreturn\u001b[39;00m M\n\u001b[0;32m     30\u001b[0m \u001b[38;5;66;03m#la fonction renvoie une matrice contenant les fins de nuplets de chaque n-uplets associés à une shape.\u001b[39;00m\n\u001b[1;32m---> 33\u001b[0m \u001b[38;5;28mprint\u001b[39m(\u001b[43mtester_shape\u001b[49m\u001b[43m(\u001b[49m\u001b[43ms\u001b[49m\u001b[43m,\u001b[49m\u001b[43mT\u001b[49m\u001b[43m)\u001b[49m)            \n",
      "Cell \u001b[1;32mIn[24], line 12\u001b[0m, in \u001b[0;36mtester_shape\u001b[1;34m(shape, tableau)\u001b[0m\n\u001b[0;32m     11\u001b[0m \u001b[38;5;28;01mdef\u001b[39;00m \u001b[38;5;21mtester_shape\u001b[39m(shape, tableau):\n\u001b[1;32m---> 12\u001b[0m     ny, nx \u001b[38;5;241m=\u001b[39m \u001b[43mtableau\u001b[49m\u001b[38;5;241;43m.\u001b[39;49m\u001b[43mshape\u001b[49m\n\u001b[0;32m     13\u001b[0m     py, px \u001b[38;5;241m=\u001b[39m shape\u001b[38;5;241m.\u001b[39mshape\n\u001b[0;32m     14\u001b[0m     x \u001b[38;5;241m=\u001b[39m nx\u001b[38;5;241m-\u001b[39mpx \u001b[38;5;241m+\u001b[39m \u001b[38;5;241m1\u001b[39m\n",
      "\u001b[1;31mAttributeError\u001b[0m: 'list' object has no attribute 'shape'"
     ]
    }
   ],
   "source": [
    "#ER\n",
    "def tabinf3(tab):\n",
    "    if 3 in tab:\n",
    "        return False\n",
    "    else:\n",
    "        return True\n",
    "    \n",
    "T = [[0,2],[2,0],[0,2]]\n",
    "s = [[1]]\n",
    "#print(tabinf3(T))\n",
    "def tester_shape(shape, tableau):\n",
    "    ny, nx = tableau.shape\n",
    "    py, px = shape.shape\n",
    "    x = nx-px + 1\n",
    "    y = ny - py + 1\n",
    "    M=[]\n",
    "    for i in range(x):\n",
    "        for j in range(y):\n",
    "            tableau = test\n",
    "            test = test * 2\n",
    "            test[y:y+py,x:x+px] += shape\n",
    "            b=[]\n",
    "            if tabinf3(test):\n",
    "                for L in tableau:\n",
    "                    for e in L:\n",
    "                        if e <= 1 :\n",
    "                            b.append(e)\n",
    "            M.append(b)\n",
    "    return M\n",
    "#la fonction renvoie une matrice contenant les fins de nuplets de chaque n-uplets associés à une shape.\n",
    "\n",
    "            \n",
    "print(tester_shape(s,T))            \n",
    "                            \n",
    "                \n",
    "            \n",
    "\n",
    "\n",
    "\n",
    "\n",
    "\n"
   ]
  },
  {
   "cell_type": "code",
   "execution_count": null,
   "id": "0ef2aa8a-cea0-4e84-a886-0a31994602ed",
   "metadata": {},
   "outputs": [],
   "source": [
    "#GP\n",
    "\n"
   ]
  },
  {
   "cell_type": "code",
   "execution_count": 31,
   "id": "8693e32f-e61b-4c84-81c1-2b1f1fcea095",
   "metadata": {},
   "outputs": [
    {
     "data": {
      "text/plain": [
       "array([[12.,  6.],\n",
       "       [ 5.,  0.]])"
      ]
     },
     "execution_count": 31,
     "metadata": {},
     "output_type": "execute_result"
    }
   ],
   "source": [
    "#TM\n",
    "def boucle(dic_lettres,dim,nb_lettres):\n",
    "    \"\"\"fonction qui va itérer sur la fonction d'Enak, dic_lettre désigne l'ensemble des lettres \n",
    "    (rotations et symétries incluses), dim est la dimension de l'espace (sous forme d'un uplet), \n",
    "    nb_lettres est le nombre de lettres (sans prendre en compte les rotations et symétries)\"\"\"\n",
    "    n=len(dic_lettres)\n",
    "    sol=[]  #on crée la liste des positions possibles, au début nb_lettre de colonnes \n",
    "    #puis dim colonnes (positions possibles)\n",
    "    for lettre in dic_lettres:\n",
    "        #lis=fonctionEnak(lettre)\n",
    "        sol.append(lis)\n",
    "    return(sol)\n",
    "\n",
    "\n",
    "def bool(mat):\n",
    "    \"\"\"transforme un tableau à 2 dimensions contenant des valeurs numériques en booléens :\n",
    "    False si 0, True sinon\"\"\"\n",
    "    n=len(mat)\n",
    "    bool=mat.copie() #on copie la matrice initiale, et on remplacera par True ou False\n",
    "    for i in range(n):\n",
    "        for j in range(len(mat[i])):\n",
    "            if mat[i,j]==0:\n",
    "                bool[i,j]==False\n",
    "            else :\n",
    "                bool[i,j]==True\n",
    "    return(bool)\n",
    "\n",
    "def resol(bool,mat):\n",
    "    \"\"\"résout avec exact_cover le problème codé en booléens par bool et renvoie \n",
    "    les colonnes avec les numéros de pièces (codés par mat) correspondant\"\"\"\n",
    "    sol=exact_cover.get_exact_cover(bool)\n",
    "    return(mat[sol]) #pas sûr sûr de la syntaxe...\n",
    "\n",
    "\n",
    "def concat(lis,nb_lettres):\n",
    "    \"\"\"retourne une liste de liste issus de la variable lis à laquelle on a enlevé les \n",
    "    nb_lettres premières colonnes (indiquant si la pièce est utilisée ou pas\"\"\"\n",
    "    lisf=[]\n",
    "    n=len(lis)\n",
    "    #print(n)\n",
    "    for i in range (n):\n",
    "        lisf.append(lis[i,nb_lettres:])\n",
    "    return(lisf)\n",
    "    \n",
    "\n",
    "#concat(np.array([[0,1,2],[3,4,5],[6,7,9]]),2)\n",
    "\"\"\"\n",
    "def plan(lis,dim):\n",
    "    \"\"\"prend une lis sortant de concat et donne un matrice avec tous les numéros de pièces\n",
    "    dim est un tupple contenant les dimensions de l'espace\"\"\"\n",
    "    sol=np.zeros(dim)\n",
    "    for i in range(len(lis)):\n",
    "        #on doit avoir len(lis[i]) = dim[0]*dim[1]\n",
    "        for j in range(len(lis[i])):\n",
    "            if lis[i,j]!=0:\n",
    "                sol[i%dim[0],i//dim[1]]=lis[i,j]\n",
    "    return(sol)\n",
    "\n",
    "lis=np.array([[0,1,0,12],[0,0,5,0],[6,0,0,0]])\n",
    "plan(lis,(2,2))\n",
    "\n",
    "\"\"\""
   ]
  },
  {
   "cell_type": "code",
   "execution_count": null,
   "id": "85be1297-b00a-4610-8632-0b5e5d2d18bf",
   "metadata": {},
   "outputs": [],
   "source": []
  },
  {
   "cell_type": "code",
   "execution_count": null,
   "id": "a460884a-b639-415f-9613-1202bb4d0455",
   "metadata": {},
   "outputs": [],
   "source": []
  },
  {
   "cell_type": "code",
   "execution_count": null,
   "id": "1c3ac7f2-514f-402f-bb27-0ae8a8dc1c3c",
   "metadata": {},
   "outputs": [],
   "source": []
  },
  {
   "cell_type": "code",
   "execution_count": null,
   "id": "06c90980-62e9-4c78-a0d2-ac2893bbdf0b",
   "metadata": {},
   "outputs": [],
   "source": []
  },
  {
   "cell_type": "code",
   "execution_count": null,
   "id": "64840c45-ca89-4d0e-91d1-01914d50caaf",
   "metadata": {},
   "outputs": [],
   "source": []
  },
  {
   "cell_type": "code",
   "execution_count": null,
   "id": "0c10cce0-9217-47ab-8a53-11393dd8a9fc",
   "metadata": {},
   "outputs": [],
   "source": []
  },
  {
   "cell_type": "code",
   "execution_count": null,
   "id": "3bbe00be-57ab-49dd-808d-84c3c25373a8",
   "metadata": {},
   "outputs": [],
   "source": []
  },
  {
   "cell_type": "code",
   "execution_count": null,
   "id": "3b7c1975-9d17-44e9-8e36-bb2586ef6660",
   "metadata": {},
   "outputs": [],
   "source": []
  }
 ],
 "metadata": {
  "kernelspec": {
   "display_name": "Python 3 (ipykernel)",
   "language": "python",
   "name": "python3"
  },
  "language_info": {
   "codemirror_mode": {
    "name": "ipython",
    "version": 3
   },
   "file_extension": ".py",
   "mimetype": "text/x-python",
   "name": "python",
   "nbconvert_exporter": "python",
   "pygments_lexer": "ipython3",
   "version": "3.11.4"
  }
 },
 "nbformat": 4,
 "nbformat_minor": 5
}
