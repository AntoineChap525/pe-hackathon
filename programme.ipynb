{
 "cells": [
  {
   "cell_type": "code",
   "execution_count": 1,
   "id": "cbf370a4-4fe7-441e-8407-70f1c6f903a9",
   "metadata": {},
   "outputs": [],
   "source": [
    "import numpy as np\n",
    "import matplotlib.pyplot as plt\n",
    "import exact_cover "
   ]
  },
  {
   "cell_type": "code",
   "execution_count": null,
   "id": "123ee7c2-b776-4e30-9d8c-300a357c1259",
   "metadata": {},
   "outputs": [],
   "source": [
    "#AC:\n",
    "\n"
   ]
  },
  {
   "cell_type": "code",
   "execution_count": null,
   "id": "17aa640e-166e-4861-b9b4-a234aa54ce81",
   "metadata": {},
   "outputs": [],
   "source": [
    "#ER\n",
    "\n"
   ]
  },
  {
   "cell_type": "code",
   "execution_count": null,
   "id": "0ef2aa8a-cea0-4e84-a886-0a31994602ed",
   "metadata": {},
   "outputs": [],
   "source": [
    "#GP\n",
    "\n"
   ]
  },
  {
   "cell_type": "code",
   "execution_count": null,
   "id": "8693e32f-e61b-4c84-81c1-2b1f1fcea095",
   "metadata": {},
   "outputs": [],
   "source": [
    "#TM\n",
    "\n",
    "\n",
    "\n"
   ]
  }
 ],
 "metadata": {
  "kernelspec": {
   "display_name": "Python 3 (ipykernel)",
   "language": "python",
   "name": "python3"
  },
  "language_info": {
   "codemirror_mode": {
    "name": "ipython",
    "version": 3
   },
   "file_extension": ".py",
   "mimetype": "text/x-python",
   "name": "python",
   "nbconvert_exporter": "python",
   "pygments_lexer": "ipython3",
   "version": "3.11.4"
  }
 },
 "nbformat": 4,
 "nbformat_minor": 5
}
