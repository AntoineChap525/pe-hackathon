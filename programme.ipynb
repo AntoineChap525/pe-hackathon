{
 "cells": [
  {
   "cell_type": "code",
   "execution_count": 1,
   "id": "cbf370a4-4fe7-441e-8407-70f1c6f903a9",
   "metadata": {},
   "outputs": [],
   "source": [
    "import numpy as np\n",
    "import matplotlib.pyplot as plt\n",
    "import exact_cover "
   ]
  },
  {
   "cell_type": "code",
   "execution_count": null,
   "id": "123ee7c2-b776-4e30-9d8c-300a357c1259",
   "metadata": {},
   "outputs": [],
   "source": [
    "#AC:\n",
    "\n"
   ]
  },
  {
   "cell_type": "code",
   "execution_count": 24,
   "id": "17aa640e-166e-4861-b9b4-a234aa54ce81",
   "metadata": {},
   "outputs": [
    {
     "ename": "AttributeError",
     "evalue": "'list' object has no attribute 'shape'",
     "output_type": "error",
     "traceback": [
      "\u001b[1;31m---------------------------------------------------------------------------\u001b[0m",
      "\u001b[1;31mAttributeError\u001b[0m                            Traceback (most recent call last)",
      "Cell \u001b[1;32mIn[24], line 33\u001b[0m\n\u001b[0;32m     29\u001b[0m     \u001b[38;5;28;01mreturn\u001b[39;00m M\n\u001b[0;32m     30\u001b[0m \u001b[38;5;66;03m#la fonction renvoie une matrice contenant les fins de nuplets de chaque n-uplets associés à une shape.\u001b[39;00m\n\u001b[1;32m---> 33\u001b[0m \u001b[38;5;28mprint\u001b[39m(\u001b[43mtester_shape\u001b[49m\u001b[43m(\u001b[49m\u001b[43ms\u001b[49m\u001b[43m,\u001b[49m\u001b[43mT\u001b[49m\u001b[43m)\u001b[49m)            \n",
      "Cell \u001b[1;32mIn[24], line 12\u001b[0m, in \u001b[0;36mtester_shape\u001b[1;34m(shape, tableau)\u001b[0m\n\u001b[0;32m     11\u001b[0m \u001b[38;5;28;01mdef\u001b[39;00m \u001b[38;5;21mtester_shape\u001b[39m(shape, tableau):\n\u001b[1;32m---> 12\u001b[0m     ny, nx \u001b[38;5;241m=\u001b[39m \u001b[43mtableau\u001b[49m\u001b[38;5;241;43m.\u001b[39;49m\u001b[43mshape\u001b[49m\n\u001b[0;32m     13\u001b[0m     py, px \u001b[38;5;241m=\u001b[39m shape\u001b[38;5;241m.\u001b[39mshape\n\u001b[0;32m     14\u001b[0m     x \u001b[38;5;241m=\u001b[39m nx\u001b[38;5;241m-\u001b[39mpx \u001b[38;5;241m+\u001b[39m \u001b[38;5;241m1\u001b[39m\n",
      "\u001b[1;31mAttributeError\u001b[0m: 'list' object has no attribute 'shape'"
     ]
    }
   ],
   "source": [
    "#ER\n",
    "def tabinf3(tab):\n",
    "    if 3 in tab:\n",
    "        return False\n",
    "    else:\n",
    "        return True\n",
    "    \n",
    "T = [[0,2],[2,0],[0,2]]\n",
    "s = [[1]]\n",
    "#print(tabinf3(T))\n",
    "def tester_shape(shape, tableau):\n",
    "    ny, nx = tableau.shape\n",
    "    py, px = shape.shape\n",
    "    x = nx-px + 1\n",
    "    y = ny - py + 1\n",
    "    M=[]\n",
    "    for i in range(x):\n",
    "        for j in range(y):\n",
    "            tableau = test\n",
    "            test = test * 2\n",
    "            test[y:y+py,x:x+px] += shape\n",
    "            b=[]\n",
    "            if tabinf3(test):\n",
    "                for L in tableau:\n",
    "                    for e in L:\n",
    "                        if e <= 1 :\n",
    "                            b.append(e)\n",
    "            M.append(b)\n",
    "    return M\n",
    "#la fonction renvoie une matrice contenant les fins de nuplets de chaque n-uplets associés à une shape.\n",
    "\n",
    "            \n",
    "print(tester_shape(s,T))            \n",
    "                            \n",
    "                \n",
    "            \n",
    "\n",
    "\n",
    "\n",
    "\n",
    "\n"
   ]
  },
  {
   "cell_type": "code",
   "execution_count": null,
   "id": "0ef2aa8a-cea0-4e84-a886-0a31994602ed",
   "metadata": {},
   "outputs": [],
   "source": [
    "#GP\n",
    "\n"
   ]
  },
  {
   "cell_type": "code",
   "execution_count": null,
   "id": "8693e32f-e61b-4c84-81c1-2b1f1fcea095",
   "metadata": {},
   "outputs": [],
   "source": [
    "#TM\n",
    "\n",
    "\n",
    "\n"
   ]
  }
 ],
 "metadata": {
  "kernelspec": {
   "display_name": "Python 3 (ipykernel)",
   "language": "python",
   "name": "python3"
  },
  "language_info": {
   "codemirror_mode": {
    "name": "ipython",
    "version": 3
   },
   "file_extension": ".py",
   "mimetype": "text/x-python",
   "name": "python",
   "nbconvert_exporter": "python",
   "pygments_lexer": "ipython3",
   "version": "3.11.4"
  }
 },
 "nbformat": 4,
 "nbformat_minor": 5
}
