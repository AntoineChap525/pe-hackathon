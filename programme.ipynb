{
 "cells": [
  {
   "cell_type": "code",
   "execution_count": 2,
   "id": "cbf370a4-4fe7-441e-8407-70f1c6f903a9",
   "metadata": {},
   "outputs": [],
   "source": [
    "import numpy as np\n",
    "import matplotlib.pyplot as plt\n",
    "import exact_cover "
   ]
  },
  {
   "cell_type": "code",
   "execution_count": null,
   "id": "123ee7c2-b776-4e30-9d8c-300a357c1259",
   "metadata": {},
   "outputs": [],
   "source": [
    "#AC:\n",
    "\n"
   ]
  },
  {
   "cell_type": "code",
   "execution_count": null,
   "id": "17aa640e-166e-4861-b9b4-a234aa54ce81",
   "metadata": {},
   "outputs": [],
   "source": [
    "#ER\n",
    "\n"
   ]
  },
  {
   "cell_type": "code",
   "execution_count": null,
   "id": "0ef2aa8a-cea0-4e84-a886-0a31994602ed",
   "metadata": {},
   "outputs": [],
   "source": [
    "#GP\n",
    "\n"
   ]
  },
  {
   "cell_type": "code",
   "execution_count": 31,
   "id": "8693e32f-e61b-4c84-81c1-2b1f1fcea095",
   "metadata": {},
   "outputs": [
    {
     "data": {
      "text/plain": [
       "array([[12.,  6.],\n",
       "       [ 5.,  0.]])"
      ]
     },
     "execution_count": 31,
     "metadata": {},
     "output_type": "execute_result"
    }
   ],
   "source": [
    "#TM\n",
    "def boucle(dic_lettres,dim,nb_lettres):\n",
    "    \"\"\"fonction qui va itérer sur la fonction d'Enak, dic_lettre désigne l'ensemble des lettres \n",
    "    (rotations et symétries incluses), dim est la dimension de l'espace (sous forme d'un uplet), \n",
    "    nb_lettres est le nombre de lettres (sans prendre en compte les rotations et symétries)\"\"\"\n",
    "    n=len(dic_lettres)\n",
    "    sol=[]  #on crée la liste des positions possibles, au début nb_lettre de colonnes \n",
    "    #puis dim colonnes (positions possibles)\n",
    "    for lettre in dic_lettres:\n",
    "        #lis=fonctionEnak(lettre)\n",
    "        sol.append(lis)\n",
    "    return(sol)\n",
    "\n",
    "\n",
    "def bool(mat):\n",
    "    \"\"\"transforme un tableau à 2 dimensions contenant des valeurs numériques en booléens :\n",
    "    False si 0, True sinon\"\"\"\n",
    "    n=len(mat)\n",
    "    bool=mat.copie() #on copie la matrice initiale, et on remplacera par True ou False\n",
    "    for i in range(n):\n",
    "        for j in range(len(mat[i])):\n",
    "            if mat[i,j]==0:\n",
    "                bool[i,j]==False\n",
    "            else :\n",
    "                bool[i,j]==True\n",
    "    return(bool)\n",
    "\n",
    "def resol(bool,mat):\n",
    "    \"\"\"résout avec exact_cover le problème codé en booléens par bool et renvoie \n",
    "    les colonnes avec les numéros de pièces (codés par mat) correspondant\"\"\"\n",
    "    sol=exact_cover.get_exact_cover(bool)\n",
    "    return(mat[sol]) #pas sûr sûr de la syntaxe...\n",
    "\n",
    "\n",
    "def concat(lis,nb_lettres):\n",
    "    \"\"\"retourne une liste de liste issus de la variable lis à laquelle on a enlevé les \n",
    "    nb_lettres premières colonnes (indiquant si la pièce est utilisée ou pas\"\"\"\n",
    "    lisf=[]\n",
    "    n=len(lis)\n",
    "    #print(n)\n",
    "    for i in range (n):\n",
    "        lisf.append(lis[i,nb_lettres:])\n",
    "    return(lisf)\n",
    "    \n",
    "\n",
    "#concat(np.array([[0,1,2],[3,4,5],[6,7,9]]),2)\n",
    "\"\"\"\n",
    "def plan(lis,dim):\n",
    "    \"\"\"prend une lis sortant de concat et donne un matrice avec tous les numéros de pièces\n",
    "    dim est un tupple contenant les dimensions de l'espace\"\"\"\n",
    "    sol=np.zeros(dim)\n",
    "    for i in range(len(lis)):\n",
    "        #on doit avoir len(lis[i]) = dim[0]*dim[1]\n",
    "        for j in range(len(lis[i])):\n",
    "            if lis[i,j]!=0:\n",
    "                sol[i%dim[0],i//dim[1]]=lis[i,j]\n",
    "    return(sol)\n",
    "\n",
    "lis=np.array([[0,1,0,12],[0,0,5,0],[6,0,0,0]])\n",
    "plan(lis,(2,2))\n",
    "\n",
    "\"\"\""
   ]
  },
  {
   "cell_type": "code",
   "execution_count": null,
   "id": "85be1297-b00a-4610-8632-0b5e5d2d18bf",
   "metadata": {},
   "outputs": [],
   "source": []
  },
  {
   "cell_type": "code",
   "execution_count": null,
   "id": "a460884a-b639-415f-9613-1202bb4d0455",
   "metadata": {},
   "outputs": [],
   "source": []
  },
  {
   "cell_type": "code",
   "execution_count": null,
   "id": "1c3ac7f2-514f-402f-bb27-0ae8a8dc1c3c",
   "metadata": {},
   "outputs": [],
   "source": []
  },
  {
   "cell_type": "code",
   "execution_count": null,
   "id": "06c90980-62e9-4c78-a0d2-ac2893bbdf0b",
   "metadata": {},
   "outputs": [],
   "source": []
  },
  {
   "cell_type": "code",
   "execution_count": null,
   "id": "64840c45-ca89-4d0e-91d1-01914d50caaf",
   "metadata": {},
   "outputs": [],
   "source": []
  },
  {
   "cell_type": "code",
   "execution_count": null,
   "id": "0c10cce0-9217-47ab-8a53-11393dd8a9fc",
   "metadata": {},
   "outputs": [],
   "source": []
  },
  {
   "cell_type": "code",
   "execution_count": null,
   "id": "3bbe00be-57ab-49dd-808d-84c3c25373a8",
   "metadata": {},
   "outputs": [],
   "source": []
  },
  {
   "cell_type": "code",
   "execution_count": null,
   "id": "3b7c1975-9d17-44e9-8e36-bb2586ef6660",
   "metadata": {},
   "outputs": [],
   "source": []
  }
 ],
 "metadata": {
  "kernelspec": {
   "display_name": "Python 3 (ipykernel)",
   "language": "python",
   "name": "python3"
  },
  "language_info": {
   "codemirror_mode": {
    "name": "ipython",
    "version": 3
   },
   "file_extension": ".py",
   "mimetype": "text/x-python",
   "name": "python",
   "nbconvert_exporter": "python",
   "pygments_lexer": "ipython3",
   "version": "3.11.4"
  }
 },
 "nbformat": 4,
 "nbformat_minor": 5
}
