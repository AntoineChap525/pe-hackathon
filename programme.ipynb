{
 "cells": [
  {
   "cell_type": "code",
   "execution_count": 2,
   "id": "cbf370a4-4fe7-441e-8407-70f1c6f903a9",
   "metadata": {},
   "outputs": [],
   "source": [
    "import numpy as np\n",
    "import matplotlib.pyplot as plt\n",
    "import exact_cover "
   ]
  },
  {
   "cell_type": "code",
   "execution_count": 3,
   "id": "123ee7c2-b776-4e30-9d8c-300a357c1259",
   "metadata": {},
   "outputs": [],
   "source": [
    "#AC:\n",
    "DTYPE = exact_cover.io.DTYPE_FOR_ARRAY\n",
    "RAW_SHAPES = {\n",
    "    \"F\": [[1, 1, 0], [0, 1, 1], [0, 1, 0]],\n",
    "    \"I\": [[1, 1, 1, 1, 1]],\n",
    "    \"L\": [[1, 0, 0, 0], [1, 1, 1, 1]],\n",
    "    \"N\": [[1, 1, 0, 0], [0, 1, 1, 1]],\n",
    "    \"P\": [[1, 1, 1], [1, 1, 0]],\n",
    "    \"T\": [[1, 1, 1], [0, 1, 0], [0, 1, 0]],\n",
    "    \"U\": [[1, 1, 1], [1, 0, 1]],\n",
    "    \"V\": [[1, 1, 1], [1, 0, 0], [1, 0, 0]],\n",
    "    \"W\": [[1, 0, 0], [1, 1, 0], [0, 1, 1]],\n",
    "    \"X\": [[0, 1, 0], [1, 1, 1], [0, 1, 0]],\n",
    "    \"Y\": [[0, 1, 0, 0], [1, 1, 1, 1]],\n",
    "    \"Z\": [[1, 1, 0], [0, 1, 0], [0, 1, 1]],\n",
    "}\n",
    "PENTOMINOS = [np.array(shape, dtype=DTYPE) for shape in RAW_SHAPES.values()]"
   ]
  },
  {
   "cell_type": "code",
   "execution_count": 35,
   "id": "36cd9fce-7201-43f6-b4ad-e2860f36ac8b",
   "metadata": {},
   "outputs": [],
   "source": [
    "#AC\n",
    "# Création de \"all_shapes\"\n",
    "\n",
    "pieces = [\"F\", \"I\", \"L\", \"N\", \"P\", \"T\", \"U\", \"V\", \"W\", \"X\", \"Y\", \"Z\"]\n",
    "all_shapes = {} # Contiendra pour chaque pièce, une liste de toutes les shapes différentes possibles\n",
    "for piece in pieces:\n",
    "    new_shape = np.array(RAW_SHAPES[piece])\n",
    "    new_shape_transpose = new_shape.T\n",
    "    all_shapes[piece] = [new_shape]\n",
    "    if not np.array_equal(new_shape, new_shape_transpose):\n",
    "        all_shapes[piece].append(new_shape_transpose)\n",
    "    for _ in range(4): # ajout de toutes les rotations/ rotations de symétries\n",
    "        new_shape = np.rot90(new_shape)\n",
    "        new_shape_transpose = np.rot90(new_shape_transpose)\n",
    "        if not any(np.array_equal(shape, new_shape) for shape in all_shapes[piece]): #si new_shape n'est pas identique à une déjà présente\n",
    "            all_shapes[piece].append(new_shape)\n",
    "        if not any(np.array_equal(shape, new_shape_transpose) for shape in all_shapes[piece]): #si new_shape n'est pas identique à une déjà présente\n",
    "            all_shapes[piece].append(new_shape_transpose)\n"
   ]
  },
  {
   "cell_type": "code",
   "execution_count": 49,
   "id": "ec9377ce-2637-426f-8d74-674a368a9b9b",
   "metadata": {},
   "outputs": [
    {
     "data": {
      "image/png": "[encoded data removed]",
      "text/plain": [
       "<Figure size 640x480 with 1 Axes>"
      ]
     },
     "metadata": {},
     "output_type": "display_data"
    }
   ],
   "source": [
    "#AC\n",
    "# Affichage couleurs\n",
    "colors = np.array([[255, 0, 0], [0, 255, 0], [0, 0, 255], [0, 255, 255],[255, 255, 0], [255, 0, 255], [50, 50, 50], [165, 42, 42], [128, 128, 0],\n",
    "            [255, 165, 0], [255, 192, 203], [112, 66, 20], [48,69,155]])\n",
    "grille = np.array([[3, 3, 6, 7, 7, 5, 5, 5, 11, 11, 11, 11],\n",
    " [3, 6, 6, 6, 7, 9, 5, 5, 10, 11, 12, 12],\n",
    " [3, 1, 6, 7, 7, 9, 9, 10, 10, 10, 12, 8],\n",
    " [3,  1,  1,  4,  4,  4,  9,  9, 10, 12, 12,  8],\n",
    " [1,  1,  4,  4,  2,  2,  2,  2,  2,  8,  8,  8]])\n",
    "\n",
    "def display(image):\n",
    "    plt.figure()\n",
    "    plt.imshow(image)\n",
    "\n",
    "#display(colors[grille])"
   ]
  },
  {
   "cell_type": "code",
   "execution_count": null,
   "id": "17aa640e-166e-4861-b9b4-a234aa54ce81",
   "metadata": {},
   "outputs": [],
   "source": [
    "#ER\n",
    "\n"
   ]
  },
  {
   "cell_type": "code",
   "execution_count": null,
   "id": "0ef2aa8a-cea0-4e84-a886-0a31994602ed",
   "metadata": {},
   "outputs": [],
   "source": [
    "#GP\n",
    "\n"
   ]
  },
  {
   "cell_type": "code",
   "execution_count": null,
   "id": "8693e32f-e61b-4c84-81c1-2b1f1fcea095",
   "metadata": {},
   "outputs": [],
   "source": [
    "#TM\n",
    "\n",
    "\n",
    "\n"
   ]
  }
 ],
 "metadata": {
  "kernelspec": {
   "display_name": "Python 3 (ipykernel)",
   "language": "python",
   "name": "python3"
  },
  "language_info": {
   "codemirror_mode": {
    "name": "ipython",
    "version": 3
   },
   "file_extension": ".py",
   "mimetype": "text/x-python",
   "name": "python",
   "nbconvert_exporter": "python",
   "pygments_lexer": "ipython3",
   "version": "3.11.4"
  }
 },
 "nbformat": 4,
 "nbformat_minor": 5
}
