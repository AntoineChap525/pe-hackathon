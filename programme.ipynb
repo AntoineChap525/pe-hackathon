{
 "cells": [
  {
   "cell_type": "code",
   "execution_count": 29,
   "id": "cbf370a4-4fe7-441e-8407-70f1c6f903a9",
   "metadata": {},
   "outputs": [],
   "source": [
    "import numpy as np\n",
    "import matplotlib.pyplot as plt\n",
    "import exact_cover "
   ]
  },
  {
   "cell_type": "code",
   "execution_count": 30,
   "id": "ae1b5d72-2f95-42de-972e-143e52e779b7",
   "metadata": {},
   "outputs": [],
   "source": [
    "import numpy as np\n",
    "import matplotlib.pyplot as plt\n",
    "import exact_cover "
   ]
  },
  {
   "cell_type": "code",
   "execution_count": 31,
   "id": "123ee7c2-b776-4e30-9d8c-300a357c1259",
   "metadata": {},
   "outputs": [],
   "source": [
    "#AC:\n",
    "DTYPE = exact_cover.io.DTYPE_FOR_ARRAY\n",
    "RAW_SHAPES = {\n",
    "    \"F\": [[1, 1, 0], [0, 1, 1], [0, 1, 0]],\n",
    "    \"I\": [[1, 1, 1, 1, 1]],\n",
    "    \"L\": [[1, 0, 0, 0], [1, 1, 1, 1]],\n",
    "    \"N\": [[1, 1, 0, 0], [0, 1, 1, 1]],\n",
    "    \"P\": [[1, 1, 1], [1, 1, 0]],\n",
    "    \"T\": [[1, 1, 1], [0, 1, 0], [0, 1, 0]],\n",
    "    \"U\": [[1, 1, 1], [1, 0, 1]],\n",
    "    \"V\": [[1, 1, 1], [1, 0, 0], [1, 0, 0]],\n",
    "    \"W\": [[1, 0, 0], [1, 1, 0], [0, 1, 1]],\n",
    "    \"X\": [[0, 1, 0], [1, 1, 1], [0, 1, 0]],\n",
    "    \"Y\": [[0, 1, 0, 0], [1, 1, 1, 1]],\n",
    "    \"Z\": [[1, 1, 0], [0, 1, 0], [0, 1, 1]],\n",
    "}\n",
    "PENTOMINOS = [np.array(shape, dtype=DTYPE) for shape in RAW_SHAPES.values()]"
   ]
  },
  {
   "cell_type": "code",
   "execution_count": 32,
   "id": "36cd9fce-7201-43f6-b4ad-e2860f36ac8b",
   "metadata": {},
   "outputs": [],
   "source": [
    "#AC\n",
    "# Création de \"all_shapes\"\n",
    "\n",
    "pieces = [\"F\", \"I\", \"L\", \"N\", \"P\", \"T\", \"U\", \"V\", \"W\", \"X\", \"Y\", \"Z\"]\n",
    "all_shapes = {} # Contiendra pour chaque pièce, une liste de toutes les shapes différentes possibles\n",
    "for piece in pieces:\n",
    "    new_shape = np.array(RAW_SHAPES[piece])\n",
    "    new_shape_transpose = new_shape.T\n",
    "    all_shapes[piece] = [new_shape]\n",
    "    if not np.array_equal(new_shape, new_shape_transpose):\n",
    "        all_shapes[piece].append(new_shape_transpose)\n",
    "    for _ in range(4): # ajout de toutes les rotations/ rotations de symétries\n",
    "        new_shape = np.rot90(new_shape)\n",
    "        new_shape_transpose = np.rot90(new_shape_transpose)\n",
    "        if not any(np.array_equal(shape, new_shape) for shape in all_shapes[piece]): #si new_shape n'est pas identique à une déjà présente\n",
    "            all_shapes[piece].append(new_shape)\n",
    "        if not any(np.array_equal(shape, new_shape_transpose) for shape in all_shapes[piece]): #si new_shape n'est pas identique à une déjà présente\n",
    "            all_shapes[piece].append(new_shape_transpose)\n"
   ]
  },
  {
   "cell_type": "code",
   "execution_count": 33,
   "id": "ec9377ce-2637-426f-8d74-674a368a9b9b",
   "metadata": {},
   "outputs": [],
   "source": [
    "#AC\n",
    "# Affichage couleurs\n",
    "colors = np.array([[255, 0, 0], [0, 255, 0], [0, 0, 255], [0, 255, 255],[255, 255, 0], [255, 0, 255], [50, 50, 50], [165, 42, 42], [128, 128, 0],\n",
    "            [255, 165, 0], [255, 192, 203], [112, 66, 20], [48,69,155]])\n",
    "grille = np.array([[3, 3, 6, 7, 7, 5, 5, 5, 11, 11, 11, 11],\n",
    " [3, 6, 6, 6, 7, 9, 5, 5, 10, 11, 12, 12],\n",
    " [3, 1, 6, 7, 7, 9, 9, 10, 10, 10, 12, 8],\n",
    " [3,  1,  1,  4,  4,  4,  9,  9, 10, 12, 12,  8],\n",
    " [1,  1,  4,  4,  2,  2,  2,  2,  2,  8,  8,  8]])\n",
    "\n",
    "def display(image):\n",
    "    plt.figure()\n",
    "    plt.imshow(image)\n",
    "\n",
    "#display(colors[grille])"
   ]
  },
  {
   "cell_type": "code",
   "execution_count": 41,
   "id": "17aa640e-166e-4861-b9b4-a234aa54ce81",
   "metadata": {},
   "outputs": [
    {
     "name": "stdout",
     "output_type": "stream",
     "text": [
      "[[1, 0, 0, 0], [0, 1, 0, 0], [0, 0, 0, 1], [0, 0, 1, 0]]\n"
     ]
    }
   ],
   "source": [
    "#ER\n",
    "def tabinf3(tab):\n",
    "    if 3 in tab:\n",
    "        return False\n",
    "    else:\n",
    "        return True\n",
    "    \n",
    "T = np.array([[0,1],[0,0],[0,1]])\n",
    "s = np.array([[1]])\n",
    "#print(tabinf3(T))\n",
    "def tester_shape(shape, tableau):\n",
    "    ny, nx = tableau.shape\n",
    "    py, px = shape.shape\n",
    "    x = nx-px + 1\n",
    "    y = ny - py + 1\n",
    "    M=[]\n",
    "    for i in range(x):\n",
    "        for j in range(y):\n",
    "            test = tableau\n",
    "            test = test * 2\n",
    "            test[j:j+py,i:i+px] += shape\n",
    "            if tabinf3(test):\n",
    "                b = []\n",
    "                for L in test:\n",
    "                    for e in L:\n",
    "                        if e <= 1 :\n",
    "                            b.append(e)\n",
    "                M.append(b)\n",
    "    return M\n",
    "#la fonction renvoie une matrice contenant les fins de n-uplets de chaque n-uplets associés à une shape.\n",
    "\n",
    "            \n",
    "print(tester_shape(s,T))            \n",
    "\n",
    "\n"
   ]
  },
  {
   "cell_type": "code",
   "execution_count": 42,
   "id": "0ef2aa8a-cea0-4e84-a886-0a31994602ed",
   "metadata": {},
   "outputs": [
    {
     "data": {
      "text/plain": [
       "array([[1., 1., 3.],\n",
       "       [1., 2., 3.],\n",
       "       [2., 2., 3.]])"
      ]
     },
     "execution_count": 42,
     "metadata": {},
     "output_type": "execute_result"
    }
   ],
   "source": [
    "#GP\n",
    "def jolie_sol(solutionexacte,board):\n",
    "    \"\"\"prend en argument ce que renvoie exact_cover pour renvoyer un tableau numpy représentant la table de jeu où chaque emplacement de pièce est bien visible, on suppose que le tableau n'as pas de trou\"\"\"\n",
    "    s = board.shape\n",
    "    #troupotentiel = (np.ones(board.shape()) - board).reshape(len(board[0])*len(board))\n",
    "    board_completed = np.zeros(s)\n",
    "    for i in range(len(solutionexacte)):\n",
    "        additionnal = (i+1)*solutionexacte[i].reshape(s)\n",
    "        board_completed += additionnal\n",
    "    return board_completed\n",
    "\n",
    "jolie_sol(np.array([[1,1,0,1,0,0,0,0,0],[0,0,0,0,1,0,1,1,0],[0,0,1,0,0,1,0,0,1]]),np.zeros((3,3)))\n",
    "\n",
    "        \n",
    "        \n",
    "    \n"
   ]
  },
  {
   "cell_type": "code",
   "execution_count": 74,
   "id": "8693e32f-e61b-4c84-81c1-2b1f1fcea095",
   "metadata": {},
   "outputs": [],
   "source": [
    "#TM\n",
    "def boucle(dic_lettres,dim,nb_lettres, board):\n",
    "    \"\"\"fonction qui va itérer sur la fonction d'Enak, dic_lettre désigne l'ensemble des lettres \n",
    "    (rotations et symétries incluses), dim est la dimension de l'espace (sous forme d'un uplet), \n",
    "    nb_lettres est le nombre de lettres (sans prendre en compte les rotations et symétries)\"\"\"\n",
    "    n=len(dic_lettres)\n",
    "    sol=[]  #on crée la liste des positions possibles, au début nb_lettre de colonnes \n",
    "    #puis dim colonnes (positions possibles)\n",
    "    for lettre in dic_lettres.values():\n",
    "        for shape in lettre:\n",
    "            lis=tester_shape(shape, board)\n",
    "            sol.append(lis)\n",
    "    return(sol)\n",
    "\n",
    "\n",
    "def bool(mat):\n",
    "    \"\"\"transforme un tableau à 2 dimensions contenant des valeurs numériques en booléens :\n",
    "    False si 0, True sinon\"\"\"\n",
    "    n=len(mat)\n",
    "    bool=np.zeros((len(mat),len(mat[0]))) #on copie la matrice initiale, et on remplacera par True ou False\n",
    "    for i in range(n):\n",
    "        for j in range(len(mat[i])):\n",
    "            if mat[i][j]==0:\n",
    "                bool[i,j]==False\n",
    "            else :\n",
    "                bool[i,j]==True\n",
    "    return(bool)\n",
    "\n",
    "def resol(bool,mat):\n",
    "    \"\"\"résout avec exact_cover le problème codé en booléens par bool et renvoie \n",
    "    les colonnes avec les numéros de pièces (codés par mat) correspondant\"\"\"\n",
    "    sol=exact_cover.get_exact_cover(bool)\n",
    "    return(mat[sol]) #pas sûr sûr de la syntaxe...\n",
    "\n",
    "\n",
    "def concat(lis,nb_lettres):\n",
    "    \"\"\"retourne une liste de liste issus de la variable lis à laquelle on a enlevé les \n",
    "    nb_lettres premières colonnes (indiquant si la pièce est utilisée ou pas\"\"\"\n",
    "    lisf=[]\n",
    "    n=len(lis)\n",
    "    #print(n)\n",
    "    for i in range (n):\n",
    "        lisf.append(lis[i,nb_lettres:])\n",
    "    return(lisf)\n",
    "    \n",
    "\n",
    "#concat(np.array([[0,1,2],[3,4,5],[6,7,9]]),2)\n"
   ]
  },
  {
   "cell_type": "code",
   "execution_count": 75,
   "id": "b463d47d-dcb0-460c-a91a-57fb0c469472",
   "metadata": {},
   "outputs": [
    {
     "ename": "IndexError",
     "evalue": "index 32 is out of bounds for axis 1 with size 32",
     "output_type": "error",
     "traceback": [
      "\u001b[1;31m---------------------------------------------------------------------------\u001b[0m",
      "\u001b[1;31mIndexError\u001b[0m                                Traceback (most recent call last)",
      "Cell \u001b[1;32mIn[75], line 15\u001b[0m\n\u001b[0;32m     11\u001b[0m     display(colors[sol])\n\u001b[0;32m     14\u001b[0m mat \u001b[38;5;241m=\u001b[39m boucle(all_shapes,dim,nb_lettres, board)\n\u001b[1;32m---> 15\u001b[0m \u001b[38;5;28;43mbool\u001b[39;49m\u001b[43m(\u001b[49m\u001b[43mmat\u001b[49m\u001b[43m)\u001b[49m\n\u001b[0;32m     16\u001b[0m \u001b[38;5;66;03m#lis = resol(bool(mat),mat)\u001b[39;00m\n\u001b[0;32m     17\u001b[0m \u001b[38;5;66;03m#solutionexacte = concat(lis,nb_lettres)\u001b[39;00m\n\u001b[0;32m     18\u001b[0m \u001b[38;5;66;03m#affichage(solutionexacte, board)\u001b[39;00m\n",
      "Cell \u001b[1;32mIn[74], line 26\u001b[0m, in \u001b[0;36mbool\u001b[1;34m(mat)\u001b[0m\n\u001b[0;32m     24\u001b[0m             \u001b[38;5;28mbool\u001b[39m[i,j]\u001b[38;5;241m==\u001b[39m\u001b[38;5;28;01mFalse\u001b[39;00m\n\u001b[0;32m     25\u001b[0m         \u001b[38;5;28;01melse\u001b[39;00m :\n\u001b[1;32m---> 26\u001b[0m             \u001b[38;5;28;43mbool\u001b[39;49m\u001b[43m[\u001b[49m\u001b[43mi\u001b[49m\u001b[43m,\u001b[49m\u001b[43mj\u001b[49m\u001b[43m]\u001b[49m\u001b[38;5;241m==\u001b[39m\u001b[38;5;28;01mTrue\u001b[39;00m\n\u001b[0;32m     27\u001b[0m \u001b[38;5;28;01mreturn\u001b[39;00m(\u001b[38;5;28mbool\u001b[39m)\n",
      "\u001b[1;31mIndexError\u001b[0m: index 32 is out of bounds for axis 1 with size 32"
     ]
    }
   ],
   "source": [
    "#AC\n",
    "\n",
    "# Test rectangle 6x10\n",
    "board = np.zeros((6,10))\n",
    "dim = board.shape\n",
    "nb_lettres = 12\n",
    "\n",
    "def affichage(solutionexacte,board):\n",
    "    sol = jolie_sol(solutionexacte,board)\n",
    "    sol = sol.astype(int)\n",
    "    display(colors[sol])\n",
    "\n",
    "\n",
    "mat = boucle(all_shapes,dim,nb_lettres, board)\n",
    "bool(mat)\n",
    "#lis = resol(bool(mat),mat)\n",
    "#solutionexacte = concat(lis,nb_lettres)\n",
    "#affichage(solutionexacte, board)"
   ]
  },
  {
   "cell_type": "code",
   "execution_count": null,
   "id": "86006e36-d482-4362-950b-6def44d2d536",
   "metadata": {},
   "outputs": [],
   "source": []
  },
  {
   "cell_type": "code",
   "execution_count": null,
   "id": "57f73d4f-88f8-43f0-9ade-e010f26a4200",
   "metadata": {},
   "outputs": [],
   "source": []
  }
 ],
 "metadata": {
  "kernelspec": {
   "display_name": "Python 3 (ipykernel)",
   "language": "python",
   "name": "python3"
  },
  "language_info": {
   "codemirror_mode": {
    "name": "ipython",
    "version": 3
   },
   "file_extension": ".py",
   "mimetype": "text/x-python",
   "name": "python",
   "nbconvert_exporter": "python",
   "pygments_lexer": "ipython3",
   "version": "3.11.4"
  }
 },
 "nbformat": 4,
 "nbformat_minor": 5
}
